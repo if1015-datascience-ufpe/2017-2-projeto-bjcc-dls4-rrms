{
 "cells": [
  {
   "cell_type": "markdown",
   "metadata": {},
   "source": [
    "# Classificador de Twitter\n",
    "\n",
    "### Autor: Ricardo Robson ~rrms at cin.ufpe.br\n",
    "### Baseado em: http://minerandodados.com.br/index.php/2017/03/15/analise-de-sentimentos-twitter-como-fazer/\n",
    "\n",
    "O objetivo deste notebook é construir um classificador de sentimento de tweets, utilizando o Algoritmo Naive Bayes, classificando textos de tweets em Positivo ou Negativo.\n",
    "\n",
    "Faremos uso de um cospus contendo pouco mais de 2900 tweets já classificados."
   ]
  },
  {
   "cell_type": "code",
   "execution_count": 1,
   "metadata": {
    "collapsed": true
   },
   "outputs": [],
   "source": [
    "#Imports que serão usados ao longo da construção e análise do classificador\n",
    "import nltk\n",
    "import re\n",
    "import pandas as pd\n",
    "from sklearn.feature_extraction.text import CountVectorizer\n",
    "from sklearn.naive_bayes import MultinomialNB\n",
    "from sklearn import metrics\n",
    "from sklearn.model_selection import cross_val_predict\n",
    "from googletrans import Translator"
   ]
  },
  {
   "cell_type": "code",
   "execution_count": 2,
   "metadata": {},
   "outputs": [
    {
     "data": {
      "text/plain": [
       "Text         4088\n",
       "Sentiment    4088\n",
       "dtype: int64"
      ]
     },
     "execution_count": 2,
     "metadata": {},
     "output_type": "execute_result"
    }
   ],
   "source": [
    "#Lendo o corpus de tweets classificados\n",
    "dataset = pd.read_csv('twitter_corpus.csv')\n",
    "dataset.count()"
   ]
  },
  {
   "cell_type": "code",
   "execution_count": 3,
   "metadata": {},
   "outputs": [
    {
     "data": {
      "text/plain": [
       "array(['neg', 'pos', 'pos', ..., 'pos', 'pos', 'pos'], dtype=object)"
      ]
     },
     "execution_count": 3,
     "metadata": {},
     "output_type": "execute_result"
    }
   ],
   "source": [
    "#Separando textos e classes (sentimentos)\n",
    "tweets = dataset['Text'].values\n",
    "classes = dataset['Sentiment'].values\n",
    "classes"
   ]
  },
  {
   "cell_type": "code",
   "execution_count": 4,
   "metadata": {},
   "outputs": [
    {
     "data": {
      "text/plain": [
       "MultinomialNB(alpha=1.0, class_prior=None, fit_prior=True)"
      ]
     },
     "execution_count": 4,
     "metadata": {},
     "output_type": "execute_result"
    }
   ],
   "source": [
    "#Criamos um objeto do tipo CountVectorizer chamado vectorizer.\n",
    "vectorizer = CountVectorizer(analyzer=\"word\")\n",
    "\n",
    "#Usamos o objeto vectorizer para calcular a frequência de todas as palavras \n",
    "#da lista de tweets e armazenamos seu retorno em freq_tweets.\n",
    "freq_tweets = vectorizer.fit_transform(tweets)\n",
    "\n",
    "#Criamos um objeto chamado modelo do tipo Naive Bayes Multinomial.\n",
    "#Esse é o algoritmo de classificação que iremos utilizar.\n",
    "modelo = MultinomialNB()\n",
    "\n",
    "#Por fim treinamos o modelo usando a frequência de palavras (freq_tweets)\n",
    "#e as classes de cada instância.\n",
    "modelo.fit(freq_tweets,classes)"
   ]
  },
  {
   "cell_type": "code",
   "execution_count": 5,
   "metadata": {},
   "outputs": [
    {
     "data": {
      "text/plain": [
       "array(['neg', 'pos', 'pos'],\n",
       "      dtype='<U3')"
      ]
     },
     "execution_count": 5,
     "metadata": {},
     "output_type": "execute_result"
    }
   ],
   "source": [
    "#Criando uma pequena lista para testes\n",
    "testes = ['Feeeling like shit right now. I really want to sleep, but nooo I have 3 hours of dancing and an art assignment to finish.',\n",
    "         'goodbye exams, HELLO ALCOHOL TONIGHT',\n",
    "         'trae is so sweet! He just bought me a new baithing suit!! Wove him']\n",
    "#Testando\n",
    "freq_testes = vectorizer.transform(testes)\n",
    "modelo.predict(freq_testes)"
   ]
  },
  {
   "cell_type": "code",
   "execution_count": 6,
   "metadata": {
    "collapsed": true,
    "scrolled": false
   },
   "outputs": [],
   "source": [
    "def translateTweers(file_name, sep_name):\n",
    "    print(\"Traduzindo '\"+file_name+\"'\")\n",
    "    tweets_csv = pd.read_csv(file_name, sep=sep_name)\n",
    "    translator = Translator()\n",
    "    tweets_list = []\n",
    "    for index, tweet in enumerate(tweets_csv['tweet']):\n",
    "        print('.', end=\"\")\n",
    "        try:\n",
    "            translated = translator.translate(tweet, dest='en')\n",
    "            tweets_list.append(translated.text)\n",
    "        except ValueError:\n",
    "            print(\"ERRO ao tentar traduzir em '\"+file_name);\n",
    "    return tweets_list"
   ]
  },
  {
   "cell_type": "code",
   "execution_count": 7,
   "metadata": {},
   "outputs": [
    {
     "name": "stdout",
     "output_type": "stream",
     "text": [
      "Traduzindo 'C9'\n",
      "............................................................................................................................................................................................................................................................................................................"
     ]
    }
   ],
   "source": [
    "tweets_list_C9 = translateTweers(\"C9\",\";\")\n",
    "tweets_list_C9_vector = vectorizer.transform(tweets_list_C9)\n",
    "tweets_result_C9 = modelo.predict(tweets_list_C9_vector)"
   ]
  },
  {
   "cell_type": "code",
   "execution_count": 8,
   "metadata": {},
   "outputs": [
    {
     "name": "stdout",
     "output_type": "stream",
     "text": [
      "Traduzindo 'FNC'\n",
      "............................................................................................................................................................................................................................................................................................................"
     ]
    }
   ],
   "source": [
    "tweets_list_FNC = translateTweers(\"FNC\",\";\")\n",
    "tweets_list_FNC_vector = vectorizer.transform(tweets_list_FNC)\n",
    "tweets_result_FNC = modelo.predict(tweets_list_FNC_vector)"
   ]
  },
  {
   "cell_type": "code",
   "execution_count": 9,
   "metadata": {},
   "outputs": [
    {
     "name": "stdout",
     "output_type": "stream",
     "text": [
      "Traduzindo 'LZ'\n",
      "............................................................................................................................................................................................................................................................................................................"
     ]
    }
   ],
   "source": [
    "tweets_list_LZ = translateTweers(\"LZ\",\";\")\n",
    "tweets_list_LZ_vector = vectorizer.transform(tweets_list_LZ)\n",
    "tweets_result_LZ = modelo.predict(tweets_list_LZ_vector)"
   ]
  },
  {
   "cell_type": "code",
   "execution_count": 10,
   "metadata": {},
   "outputs": [
    {
     "name": "stdout",
     "output_type": "stream",
     "text": [
      "Traduzindo 'MSF'\n",
      "............................................................................................................................................................................................................................................................................................................"
     ]
    }
   ],
   "source": [
    "tweets_list_MSF = translateTweers(\"MSF\",\";\")\n",
    "tweets_list_MSF_vector = vectorizer.transform(tweets_list_MSF)\n",
    "tweets_result_MSF = modelo.predict(tweets_list_MSF_vector)"
   ]
  },
  {
   "cell_type": "code",
   "execution_count": 11,
   "metadata": {},
   "outputs": [
    {
     "name": "stdout",
     "output_type": "stream",
     "text": [
      "Traduzindo 'RNG'\n",
      "................................................................................................................................................................................................................................................................................................................................................................................................................................................................................................................................................................................................................................................................................................................................................................................................................................................................................................................................................................................................................................................................................................................................................................................................................................................"
     ]
    }
   ],
   "source": [
    "tweets_list_RNG = translateTweers(\"RNG\",\";\")\n",
    "tweets_list_RNG_vector = vectorizer.transform(tweets_list_RNG)\n",
    "tweets_result_RNG = modelo.predict(tweets_list_RNG_vector)"
   ]
  },
  {
   "cell_type": "code",
   "execution_count": 12,
   "metadata": {},
   "outputs": [
    {
     "name": "stdout",
     "output_type": "stream",
     "text": [
      "Traduzindo 'SKT'\n",
      "............................................................................................................................................................................................................................................................................................................................................................................................................................................................................................................................................................................................................................................................................................................................................................................................................................................................................................................................................................................................................................................................................................................................................................................................................................................................................................................................................................................................................................................................................................................................................................................................................................................................................................................................................................................................................................................................................................................................................................................"
     ]
    }
   ],
   "source": [
    "tweets_list_SKT = translateTweers(\"SKT\",\";\")\n",
    "tweets_list_SKT_vector = vectorizer.transform(tweets_list_SKT)\n",
    "tweets_result_SKT = modelo.predict(tweets_list_SKT_vector)"
   ]
  },
  {
   "cell_type": "code",
   "execution_count": 13,
   "metadata": {},
   "outputs": [
    {
     "name": "stdout",
     "output_type": "stream",
     "text": [
      "Traduzindo 'SSG'\n",
      "................................................................................................................................................................................................................................................................................................................................................................................................................................................................................................................................................................................................................................................................................................................................................................................................................................................................ERRO ao tentar traduzir em 'SSG\n",
      "...........................................................................................................................ERRO ao tentar traduzir em 'SSG\n",
      "................................................................................................................................................................................................................................................................................................................................................................................................................................................................................................................................................................................................................................................................................................................................................................................................................................................................................................................................................................................."
     ]
    }
   ],
   "source": [
    "tweets_list_SSG = translateTweers(\"SSG\",\";\")\n",
    "tweets_list_SSG_vector = vectorizer.transform(tweets_list_SSG)\n",
    "tweets_result_SSG = modelo.predict(tweets_list_SSG_vector)"
   ]
  },
  {
   "cell_type": "code",
   "execution_count": 14,
   "metadata": {},
   "outputs": [
    {
     "name": "stdout",
     "output_type": "stream",
     "text": [
      "Traduzindo 'WE'\n",
      "................................................................................................................................................................................................................................................................................................................................................................................................................................................................................................................................................................................................................................................................................................................................................................................................................................................................................................................................................................................................................................................................................................................................................................................................................................................"
     ]
    }
   ],
   "source": [
    "tweets_list_WE = translateTweers(\"WE\",\";\")\n",
    "tweets_list_WE_vector = vectorizer.transform(tweets_list_WE)\n",
    "tweets_result_WE = modelo.predict(tweets_list_WE_vector)"
   ]
  },
  {
   "cell_type": "code",
   "execution_count": 15,
   "metadata": {},
   "outputs": [
    {
     "name": "stdout",
     "output_type": "stream",
     "text": [
      "300\t-\t300\n",
      "300\t-\t300\n",
      "300\t-\t300\n",
      "300\t-\t300\n",
      "1200\t-\t1200\n",
      "1900\t-\t1900\n",
      "1898\t-\t1898\n",
      "1200\t-\t1200\n"
     ]
    }
   ],
   "source": [
    "print(str(len(tweets_list_C9))+\"\\t-\\t\"+str(len(tweets_result_C9)))\n",
    "print(str(len(tweets_list_FNC))+\"\\t-\\t\"+str(len(tweets_result_FNC)))\n",
    "print(str(len(tweets_list_LZ))+\"\\t-\\t\"+str(len(tweets_result_LZ)))\n",
    "print(str(len(tweets_list_MSF))+\"\\t-\\t\"+str(len(tweets_result_MSF)))\n",
    "print(str(len(tweets_list_RNG))+\"\\t-\\t\"+str(len(tweets_result_RNG)))\n",
    "print(str(len(tweets_list_SKT))+\"\\t-\\t\"+str(len(tweets_result_SKT)))\n",
    "print(str(len(tweets_list_SSG))+\"\\t-\\t\"+str(len(tweets_result_SSG)))\n",
    "print(str(len(tweets_list_WE))+\"\\t-\\t\"+str(len(tweets_result_WE)))\n"
   ]
  },
  {
   "cell_type": "code",
   "execution_count": 30,
   "metadata": {},
   "outputs": [
    {
     "name": "stdout",
     "output_type": "stream",
     "text": [
      "300\n",
      "Pos: 0.21333333333333335 Neg:0.7866666666666666\n",
      "300\n",
      "Pos: 0.16 Neg:0.84\n",
      "300\n",
      "Pos: 0.22 Neg:0.78\n",
      "300\n",
      "Pos: 0.21333333333333335 Neg:0.7866666666666666\n",
      "1200\n",
      "Pos: 0.175 Neg:0.825\n",
      "1900\n",
      "Pos: 0.17157894736842105 Neg:0.828421052631579\n",
      "1898\n",
      "Pos: 0.20073761854583771 Neg:0.7992623814541623\n",
      "1200\n",
      "Pos: 0.12083333333333333 Neg:0.8791666666666667\n"
     ]
    }
   ],
   "source": [
    "print(len(tweets_result_C9))\n",
    "percentual_positives = len(tweets_result_C9[tweets_result_C9 == 'pos'])/len(tweets_result_C9)\n",
    "percentual_negatives = 1-percentual_positives\n",
    "print(\"Pos: \"+str(percentual_positives)+\" Neg:\"+str(percentual_negatives))\n",
    "\n",
    "print(len(tweets_result_FNC))\n",
    "percentual_positives = len(tweets_result_FNC[tweets_result_FNC == 'pos'])/len(tweets_result_FNC)\n",
    "percentual_negatives = 1-percentual_positives\n",
    "print(\"Pos: \"+str(percentual_positives)+\" Neg:\"+str(percentual_negatives))\n",
    "\n",
    "print(len(tweets_result_LZ))\n",
    "percentual_positives = len(tweets_result_LZ[tweets_result_LZ == 'pos'])/len(tweets_result_LZ)\n",
    "percentual_negatives = 1-percentual_positives\n",
    "print(\"Pos: \"+str(percentual_positives)+\" Neg:\"+str(percentual_negatives))\n",
    "\n",
    "print(len(tweets_result_MSF))\n",
    "percentual_positives = len(tweets_result_MSF[tweets_result_MSF == 'pos'])/len(tweets_result_MSF)\n",
    "percentual_negatives = 1-percentual_positives\n",
    "print(\"Pos: \"+str(percentual_positives)+\" Neg:\"+str(percentual_negatives))\n",
    "\n",
    "print(len(tweets_result_RNG))\n",
    "percentual_positives = len(tweets_result_RNG[tweets_result_RNG == 'pos'])/len(tweets_result_RNG)\n",
    "percentual_negatives = 1-percentual_positives\n",
    "print(\"Pos: \"+str(percentual_positives)+\" Neg:\"+str(percentual_negatives))\n",
    "\n",
    "print(len(tweets_result_SKT))\n",
    "percentual_positives = len(tweets_result_SKT[tweets_result_SKT == 'pos'])/len(tweets_result_SKT)\n",
    "percentual_negatives = 1-percentual_positives\n",
    "print(\"Pos: \"+str(percentual_positives)+\" Neg:\"+str(percentual_negatives))\n",
    "\n",
    "print(len(tweets_result_SSG))\n",
    "percentual_positives = len(tweets_result_SSG[tweets_result_SSG == 'pos'])/len(tweets_result_SSG)\n",
    "percentual_negatives = 1-percentual_positives\n",
    "print(\"Pos: \"+str(percentual_positives)+\" Neg:\"+str(percentual_negatives))\n",
    "\n",
    "print(len(tweets_result_WE))\n",
    "percentual_positives = len(tweets_result_WE[tweets_result_WE == 'pos'])/len(tweets_result_WE)\n",
    "percentual_negatives = 1-percentual_positives\n",
    "print(\"Pos: \"+str(percentual_positives)+\" Neg:\"+str(percentual_negatives))"
   ]
  },
  {
   "cell_type": "code",
   "execution_count": null,
   "metadata": {
    "collapsed": true
   },
   "outputs": [],
   "source": []
  }
 ],
 "metadata": {
  "kernelspec": {
   "display_name": "Python 3",
   "language": "python",
   "name": "python3"
  },
  "language_info": {
   "codemirror_mode": {
    "name": "ipython",
    "version": 3
   },
   "file_extension": ".py",
   "mimetype": "text/x-python",
   "name": "python",
   "nbconvert_exporter": "python",
   "pygments_lexer": "ipython3",
   "version": "3.6.2"
  }
 },
 "nbformat": 4,
 "nbformat_minor": 2
}
