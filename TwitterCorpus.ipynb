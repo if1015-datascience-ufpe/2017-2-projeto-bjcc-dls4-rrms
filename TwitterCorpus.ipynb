{
 "cells": [
  {
   "cell_type": "markdown",
   "metadata": {},
   "source": [
    "# Classificador de Twitter\n",
    "\n",
    "### Autor: Ricardo Robson ~rrms at cin.ufpe.br\n",
    "### Baseado em: http://minerandodados.com.br/index.php/2017/03/15/analise-de-sentimentos-twitter-como-fazer/\n",
    "\n",
    "O objetivo deste notebook é construir um classificador de sentimento de tweets, utilizando o Algoritmo Naive Bayes, classificando textos de tweets em Positivo ou Negativo.\n",
    "\n",
    "Faremos uso de um cospus contendo pouco mais de 2900 tweets já classificados."
   ]
  },
  {
   "cell_type": "code",
   "execution_count": 76,
   "metadata": {},
   "outputs": [],
   "source": [
    "#Imports que serão usados ao longo da construção e análise do classificador\n",
    "import nltk\n",
    "import re\n",
    "import pandas as pd\n",
    "from sklearn.feature_extraction.text import CountVectorizer\n",
    "from sklearn.naive_bayes import MultinomialNB\n",
    "from sklearn import metrics\n",
    "from sklearn.model_selection import cross_val_predict\n",
    "from nltk.stem.snowball import SnowballStemmer\n",
    "from googletrans import Translator"
   ]
  },
  {
   "cell_type": "code",
   "execution_count": 77,
   "metadata": {},
   "outputs": [
    {
     "data": {
      "text/plain": [
       "Text         4088\n",
       "Sentiment    4088\n",
       "dtype: int64"
      ]
     },
     "execution_count": 77,
     "metadata": {},
     "output_type": "execute_result"
    }
   ],
   "source": [
    "#Lendo o corpus de tweets classificados\n",
    "dataset = pd.read_csv('twitter_corpus.csv')\n",
    "dataset.count()"
   ]
  },
  {
   "cell_type": "code",
   "execution_count": 78,
   "metadata": {},
   "outputs": [
    {
     "data": {
      "text/plain": [
       "array(['neg', 'pos', 'pos', ..., 'pos', 'pos', 'pos'], dtype=object)"
      ]
     },
     "execution_count": 78,
     "metadata": {},
     "output_type": "execute_result"
    }
   ],
   "source": [
    "#Separando textos e classes (sentimentos)\n",
    "tweets = dataset['Text'].values\n",
    "classes = dataset['Sentiment'].values\n",
    "classes"
   ]
  },
  {
   "cell_type": "markdown",
   "metadata": {},
   "source": [
    "#### Treinando o modelo"
   ]
  },
  {
   "cell_type": "code",
   "execution_count": 79,
   "metadata": {},
   "outputs": [
    {
     "data": {
      "text/plain": [
       "MultinomialNB(alpha=1.0, class_prior=None, fit_prior=True)"
      ]
     },
     "execution_count": 79,
     "metadata": {},
     "output_type": "execute_result"
    }
   ],
   "source": [
    "#Criamos um objeto do tipo CountVectorizer chamado vectorizer.\n",
    "vectorizer = CountVectorizer(analyzer=\"word\")\n",
    "\n",
    "#Usamos o objeto vectorizer para calcular a frequência de todas as palavras \n",
    "#da lista de tweets e armazenamos seu retorno em freq_tweets.\n",
    "freq_tweets = vectorizer.fit_transform(tweets)\n",
    "\n",
    "#Criamos um objeto chamado modelo do tipo Naive Bayes Multinomial.\n",
    "#Esse é o algoritmo de classificação que iremos utilizar.\n",
    "modelo = MultinomialNB()\n",
    "\n",
    "#Por fim treinamos o modelo usando a frequência de palavras (freq_tweets)\n",
    "#e as classes de cada instância.\n",
    "modelo.fit(freq_tweets,classes)"
   ]
  },
  {
   "cell_type": "markdown",
   "metadata": {},
   "source": [
    "#### Treinando o modelo com stop words"
   ]
  },
  {
   "cell_type": "code",
   "execution_count": 80,
   "metadata": {},
   "outputs": [
    {
     "data": {
      "text/plain": [
       "MultinomialNB(alpha=1.0, class_prior=None, fit_prior=True)"
      ]
     },
     "execution_count": 80,
     "metadata": {},
     "output_type": "execute_result"
    }
   ],
   "source": [
    "stopwords_vectorizer = CountVectorizer(analyzer=\"word\", stop_words='english')\n",
    "stopwords_freq_tweets = stopwords_vectorizer.fit_transform(tweets)\n",
    "stopwords_modelo = MultinomialNB()\n",
    "stopwords_modelo.fit(stopwords_freq_tweets,classes)"
   ]
  },
  {
   "cell_type": "markdown",
   "metadata": {},
   "source": [
    "#### Testando modelo simples"
   ]
  },
  {
   "cell_type": "code",
   "execution_count": 81,
   "metadata": {},
   "outputs": [
    {
     "data": {
      "text/plain": [
       "array(['neg', 'pos', 'pos'], \n",
       "      dtype='<U3')"
      ]
     },
     "execution_count": 81,
     "metadata": {},
     "output_type": "execute_result"
    }
   ],
   "source": [
    "#Criando uma pequena lista para testes\n",
    "testes = ['Feeeling like shit right now. I really want to sleep, but nooo I have 3 hours of dancing and an art assignment to finish.',\n",
    "         'goodbye exams, HELLO ALCOHOL TONIGHT',\n",
    "         'trae is so sweet! He just bought me a new baithing suit!! Wove him']\n",
    "#Testando\n",
    "freq_testes = vectorizer.transform(testes)\n",
    "modelo.predict(freq_testes)"
   ]
  },
  {
   "cell_type": "markdown",
   "metadata": {},
   "source": [
    "#### Testando modelo com stopwords"
   ]
  },
  {
   "cell_type": "code",
   "execution_count": 82,
   "metadata": {},
   "outputs": [
    {
     "data": {
      "text/plain": [
       "array(['neg', 'neg', 'pos'], \n",
       "      dtype='<U3')"
      ]
     },
     "execution_count": 82,
     "metadata": {},
     "output_type": "execute_result"
    }
   ],
   "source": [
    "freq_testes = stopwords_vectorizer.transform(testes)\n",
    "stopwords_modelo.predict(freq_testes)"
   ]
  },
  {
   "cell_type": "markdown",
   "metadata": {},
   "source": [
    "#### Treinando modelo com stemming"
   ]
  },
  {
   "cell_type": "code",
   "execution_count": 85,
   "metadata": {},
   "outputs": [
    {
     "data": {
      "text/plain": [
       "MultinomialNB(alpha=1.0, class_prior=None, fit_prior=True)"
      ]
     },
     "execution_count": 85,
     "metadata": {},
     "output_type": "execute_result"
    }
   ],
   "source": [
    "stem_modelo = MultinomialNB()\n",
    "stemmer = SnowballStemmer(\"english\")\n",
    "stem_vectorizer = CountVectorizer(stemmer)\n",
    "stemeed_tweets = []\n",
    "for tweet in tweets:\n",
    "    stemeed_tweets.append(' '.join([stemmer.stem(word) for word in tweet.split()]))\n",
    "\n",
    "freq_steemed_tweets = stem_vectorizer.fit_transform(stemeed_tweets)\n",
    "stem_modelo.fit(freq_steemed_tweets,classes)"
   ]
  },
  {
   "cell_type": "markdown",
   "metadata": {},
   "source": [
    "#### Testando modelo com stemming"
   ]
  },
  {
   "cell_type": "code",
   "execution_count": 86,
   "metadata": {},
   "outputs": [
    {
     "data": {
      "text/plain": [
       "array(['neg', 'pos', 'pos'], \n",
       "      dtype='<U3')"
      ]
     },
     "execution_count": 86,
     "metadata": {},
     "output_type": "execute_result"
    }
   ],
   "source": [
    "stem_testes = []\n",
    "for test in testes:\n",
    "    stem_testes.append(' '.join([stemmer.stem(word) for word in test.split()]))\n",
    "\n",
    "stem_freq_testes = stem_vectorizer.transform(stem_testes)\n",
    "stem_modelo.predict(stem_freq_testes)"
   ]
  },
  {
   "cell_type": "markdown",
   "metadata": {},
   "source": [
    "#### Treinando modelo com stopwords e stemming"
   ]
  },
  {
   "cell_type": "code",
   "execution_count": 87,
   "metadata": {},
   "outputs": [
    {
     "data": {
      "text/plain": [
       "MultinomialNB(alpha=1.0, class_prior=None, fit_prior=True)"
      ]
     },
     "execution_count": 87,
     "metadata": {},
     "output_type": "execute_result"
    }
   ],
   "source": [
    "stem_stopwords_vectorizer = CountVectorizer(analyzer=\"word\", stop_words='english')\n",
    "stem_stopwords_freq_tweets = stem_stopwords_vectorizer.fit_transform(stemeed_tweets)\n",
    "stem_stopwords_modelo = MultinomialNB()\n",
    "stem_stopwords_modelo.fit(stem_stopwords_freq_tweets,classes)"
   ]
  },
  {
   "cell_type": "markdown",
   "metadata": {},
   "source": [
    "#### Testando modelo com stopwords e stemming"
   ]
  },
  {
   "cell_type": "code",
   "execution_count": 88,
   "metadata": {},
   "outputs": [
    {
     "data": {
      "text/plain": [
       "array(['neg', 'pos', 'pos'], \n",
       "      dtype='<U3')"
      ]
     },
     "execution_count": 88,
     "metadata": {},
     "output_type": "execute_result"
    }
   ],
   "source": [
    "stem_stopwords_freq_testes = stem_stopwords_vectorizer.transform(stem_testes)\n",
    "stem_stopwords_modelo.predict(stem_stopwords_freq_testes)"
   ]
  },
  {
   "cell_type": "code",
   "execution_count": 36,
   "metadata": {
    "collapsed": true,
    "scrolled": false
   },
   "outputs": [],
   "source": [
    "def translateTweers(file_name, sep_name):\n",
    "    print(\"Traduzindo '\"+file_name+\"'\")\n",
    "    tweets_csv = pd.read_csv(file_name, sep=sep_name)\n",
    "    translator = Translator()\n",
    "    tweets_list = []\n",
    "    dates = []\n",
    "    for index, tweet in enumerate(tweets_csv['tweet']):\n",
    "        print('.', end=\"\")\n",
    "        try:\n",
    "            translated = translator.translate(tweet, dest='en')\n",
    "            tweets_list.append(translated.text)\n",
    "            dates.append(tweets_csv['date'][index])\n",
    "        except ValueError:\n",
    "            print(\"ERRO ao tentar traduzir em '\"+file_name);\n",
    "    return dates, tweets_list"
   ]
  },
  {
   "cell_type": "code",
   "execution_count": 37,
   "metadata": {},
   "outputs": [
    {
     "name": "stdout",
     "output_type": "stream",
     "text": [
      "Traduzindo 'C9'\n",
      "............................................................................................................................................................................................................................................................................................................"
     ]
    }
   ],
   "source": [
    "tweets_C9_dates, tweets_list_C9 = translateTweers(\"C9\",\";\")\n",
    "tweets_list_C9_vector = vectorizer.transform(tweets_list_C9)\n",
    "tweets_result_C9 = modelo.predict(tweets_list_C9_vector)"
   ]
  },
  {
   "cell_type": "code",
   "execution_count": 40,
   "metadata": {},
   "outputs": [
    {
     "name": "stdout",
     "output_type": "stream",
     "text": [
      "Traduzindo 'FNC'\n",
      "............................................................................................................................................................................................................................................................................................................"
     ]
    }
   ],
   "source": [
    "tweets_FNC_dates, tweets_list_FNC = translateTweers(\"FNC\",\";\")\n",
    "tweets_list_FNC_vector = vectorizer.transform(tweets_list_FNC)\n",
    "tweets_result_FNC = modelo.predict(tweets_list_FNC_vector)"
   ]
  },
  {
   "cell_type": "code",
   "execution_count": 41,
   "metadata": {},
   "outputs": [
    {
     "name": "stdout",
     "output_type": "stream",
     "text": [
      "Traduzindo 'LZ'\n",
      "............................................................................................................................................................................................................................................................................................................"
     ]
    }
   ],
   "source": [
    "tweets_LZ_dates, tweets_list_LZ = translateTweers(\"LZ\",\";\")\n",
    "tweets_list_LZ_vector = vectorizer.transform(tweets_list_LZ)\n",
    "tweets_result_LZ = modelo.predict(tweets_list_LZ_vector)"
   ]
  },
  {
   "cell_type": "code",
   "execution_count": 42,
   "metadata": {},
   "outputs": [
    {
     "name": "stdout",
     "output_type": "stream",
     "text": [
      "Traduzindo 'MSF'\n",
      "............................................................................................................................................................................................................................................................................................................"
     ]
    }
   ],
   "source": [
    "tweets_MSF_dates, tweets_list_MSF = translateTweers(\"MSF\",\";\")\n",
    "tweets_list_MSF_vector = vectorizer.transform(tweets_list_MSF)\n",
    "tweets_result_MSF = modelo.predict(tweets_list_MSF_vector)"
   ]
  },
  {
   "cell_type": "code",
   "execution_count": 43,
   "metadata": {},
   "outputs": [
    {
     "name": "stdout",
     "output_type": "stream",
     "text": [
      "Traduzindo 'RNG'\n",
      "................................................................................................................................................................................................................................................................................................................................................................................................................................................................................................................................................................................................................................................................................................................................................................................................................................................................................................................................................................................................................................................................................................................................................................................................................................................"
     ]
    }
   ],
   "source": [
    "tweets_RNG_dates, tweets_list_RNG = translateTweers(\"RNG\",\";\")\n",
    "tweets_list_RNG_vector = vectorizer.transform(tweets_list_RNG)\n",
    "tweets_result_RNG = modelo.predict(tweets_list_RNG_vector)"
   ]
  },
  {
   "cell_type": "code",
   "execution_count": 44,
   "metadata": {},
   "outputs": [
    {
     "name": "stdout",
     "output_type": "stream",
     "text": [
      "Traduzindo 'SKT'\n",
      "............................................................................................................................................................................................................................................................................................................................................................................................................................................................................................................................................................................................................................................................................................................................................................................................................................................................................................................................................................................................................................................................................................................................................................................................................................................................................................................................................................................................................................................................................................................................................................................................................................................................................................................................................................................................................................................................................................................................................................................"
     ]
    }
   ],
   "source": [
    "tweets_SKT_dates, tweets_list_SKT = translateTweers(\"SKT\",\";\")\n",
    "tweets_list_SKT_vector = vectorizer.transform(tweets_list_SKT)\n",
    "tweets_result_SKT = modelo.predict(tweets_list_SKT_vector)"
   ]
  },
  {
   "cell_type": "code",
   "execution_count": 45,
   "metadata": {},
   "outputs": [
    {
     "name": "stdout",
     "output_type": "stream",
     "text": [
      "Traduzindo 'SSG'\n",
      "................................................................................................................................................................................................................................................................................................................................................................................................................................................................................................................................................................................................................................................................................................................................................................................................................................................................ERRO ao tentar traduzir em 'SSG\n",
      "...........................................................................................................................ERRO ao tentar traduzir em 'SSG\n",
      "................................................................................................................................................................................................................................................................................................................................................................................................................................................................................................................................................................................................................................................................................................................................................................................................................................................................................................................................................................................."
     ]
    }
   ],
   "source": [
    "tweets_SSG_dates, tweets_list_SSG = translateTweers(\"SSG\",\";\")\n",
    "tweets_list_SSG_vector = vectorizer.transform(tweets_list_SSG)\n",
    "tweets_result_SSG = modelo.predict(tweets_list_SSG_vector)"
   ]
  },
  {
   "cell_type": "code",
   "execution_count": 46,
   "metadata": {},
   "outputs": [
    {
     "name": "stdout",
     "output_type": "stream",
     "text": [
      "Traduzindo 'WE'\n",
      "................................................................................................................................................................................................................................................................................................................................................................................................................................................................................................................................................................................................................................................................................................................................................................................................................................................................................................................................................................................................................................................................................................................................................................................................................................................"
     ]
    }
   ],
   "source": [
    "tweets_WE_dates, tweets_list_WE = translateTweers(\"WE\",\";\")\n",
    "tweets_list_WE_vector = vectorizer.transform(tweets_list_WE)\n",
    "tweets_result_WE = modelo.predict(tweets_list_WE_vector)"
   ]
  },
  {
   "cell_type": "code",
   "execution_count": 47,
   "metadata": {},
   "outputs": [
    {
     "name": "stdout",
     "output_type": "stream",
     "text": [
      "300\t-\t300\n",
      "300\t-\t300\n",
      "300\t-\t300\n",
      "300\t-\t300\n",
      "1200\t-\t1200\n",
      "1900\t-\t1900\n",
      "1898\t-\t1898\n",
      "1200\t-\t1200\n"
     ]
    }
   ],
   "source": [
    "print(str(len(tweets_list_C9))+\"\\t-\\t\"+str(len(tweets_result_C9)))\n",
    "print(str(len(tweets_list_FNC))+\"\\t-\\t\"+str(len(tweets_result_FNC)))\n",
    "print(str(len(tweets_list_LZ))+\"\\t-\\t\"+str(len(tweets_result_LZ)))\n",
    "print(str(len(tweets_list_MSF))+\"\\t-\\t\"+str(len(tweets_result_MSF)))\n",
    "print(str(len(tweets_list_RNG))+\"\\t-\\t\"+str(len(tweets_result_RNG)))\n",
    "print(str(len(tweets_list_SKT))+\"\\t-\\t\"+str(len(tweets_result_SKT)))\n",
    "print(str(len(tweets_list_SSG))+\"\\t-\\t\"+str(len(tweets_result_SSG)))\n",
    "print(str(len(tweets_list_WE))+\"\\t-\\t\"+str(len(tweets_result_WE)))\n"
   ]
  },
  {
   "cell_type": "code",
   "execution_count": 48,
   "metadata": {},
   "outputs": [
    {
     "name": "stdout",
     "output_type": "stream",
     "text": [
      "300\n",
      "Pos: 0.24666666666666667 Neg:0.7533333333333333\n",
      "300\n",
      "Pos: 0.19333333333333333 Neg:0.8066666666666666\n",
      "300\n",
      "Pos: 0.25333333333333335 Neg:0.7466666666666666\n",
      "300\n",
      "Pos: 0.26 Neg:0.74\n",
      "1200\n",
      "Pos: 0.21083333333333334 Neg:0.7891666666666667\n",
      "1900\n",
      "Pos: 0.2231578947368421 Neg:0.7768421052631579\n",
      "1898\n",
      "Pos: 0.24868282402528977 Neg:0.7513171759747103\n",
      "1200\n",
      "Pos: 0.16833333333333333 Neg:0.8316666666666667\n"
     ]
    }
   ],
   "source": [
    "print(len(tweets_result_C9))\n",
    "percentual_positives = len(tweets_result_C9[tweets_result_C9 == 'pos'])/len(tweets_result_C9)\n",
    "percentual_negatives = 1-percentual_positives\n",
    "print(\"Pos: \"+str(percentual_positives)+\" Neg:\"+str(percentual_negatives))\n",
    "\n",
    "print(len(tweets_result_FNC))\n",
    "percentual_positives = len(tweets_result_FNC[tweets_result_FNC == 'pos'])/len(tweets_result_FNC)\n",
    "percentual_negatives = 1-percentual_positives\n",
    "print(\"Pos: \"+str(percentual_positives)+\" Neg:\"+str(percentual_negatives))\n",
    "\n",
    "print(len(tweets_result_LZ))\n",
    "percentual_positives = len(tweets_result_LZ[tweets_result_LZ == 'pos'])/len(tweets_result_LZ)\n",
    "percentual_negatives = 1-percentual_positives\n",
    "print(\"Pos: \"+str(percentual_positives)+\" Neg:\"+str(percentual_negatives))\n",
    "\n",
    "print(len(tweets_result_MSF))\n",
    "percentual_positives = len(tweets_result_MSF[tweets_result_MSF == 'pos'])/len(tweets_result_MSF)\n",
    "percentual_negatives = 1-percentual_positives\n",
    "print(\"Pos: \"+str(percentual_positives)+\" Neg:\"+str(percentual_negatives))\n",
    "\n",
    "print(len(tweets_result_RNG))\n",
    "percentual_positives = len(tweets_result_RNG[tweets_result_RNG == 'pos'])/len(tweets_result_RNG)\n",
    "percentual_negatives = 1-percentual_positives\n",
    "print(\"Pos: \"+str(percentual_positives)+\" Neg:\"+str(percentual_negatives))\n",
    "\n",
    "print(len(tweets_result_SKT))\n",
    "percentual_positives = len(tweets_result_SKT[tweets_result_SKT == 'pos'])/len(tweets_result_SKT)\n",
    "percentual_negatives = 1-percentual_positives\n",
    "print(\"Pos: \"+str(percentual_positives)+\" Neg:\"+str(percentual_negatives))\n",
    "\n",
    "print(len(tweets_result_SSG))\n",
    "percentual_positives = len(tweets_result_SSG[tweets_result_SSG == 'pos'])/len(tweets_result_SSG)\n",
    "percentual_negatives = 1-percentual_positives\n",
    "print(\"Pos: \"+str(percentual_positives)+\" Neg:\"+str(percentual_negatives))\n",
    "\n",
    "print(len(tweets_result_WE))\n",
    "percentual_positives = len(tweets_result_WE[tweets_result_WE == 'pos'])/len(tweets_result_WE)\n",
    "percentual_negatives = 1-percentual_positives\n",
    "print(\"Pos: \"+str(percentual_positives)+\" Neg:\"+str(percentual_negatives))"
   ]
  },
  {
   "cell_type": "markdown",
   "metadata": {
    "collapsed": true
   },
   "source": [
    "#### Escrevendo CSV com os resultados"
   ]
  },
  {
   "cell_type": "code",
   "execution_count": 50,
   "metadata": {},
   "outputs": [
    {
     "name": "stdout",
     "output_type": "stream",
     "text": [
      "Finished\n"
     ]
    }
   ],
   "source": [
    "f = open('tweets_classifieds.csv','w')\n",
    "for index, C9_result in enumerate(tweets_result_C9):\n",
    "    text = tweets_C9_dates[index]+','+tweets_list_C9[index]+','+C9_result+'\\n'\n",
    "    f.write(text)\n",
    "for index, FNC_result in enumerate(tweets_result_FNC):\n",
    "    text = tweets_FNC_dates[index]+','+tweets_list_FNC[index]+','+FNC_result+'\\n'\n",
    "    f.write(text)\n",
    "for index, LZ_result in enumerate(tweets_result_LZ):\n",
    "    text = tweets_LZ_dates[index]+','+tweets_list_LZ[index]+','+LZ_result+'\\n'\n",
    "    f.write(text)\n",
    "for index, MSF_result in enumerate(tweets_result_MSF):\n",
    "    text = tweets_MSF_dates[index]+','+tweets_list_MSF[index]+','+MSF_result+'\\n'\n",
    "    f.write(text)\n",
    "for index, RNG_result in enumerate(tweets_result_RNG):\n",
    "    text = tweets_RNG_dates[index]+','+tweets_list_RNG[index]+','+RNG_result+'\\n'\n",
    "    f.write(text)\n",
    "for index, SKT_result in enumerate(tweets_result_SKT):\n",
    "    text = tweets_SKT_dates[index]+','+tweets_list_SKT[index]+','+SKT_result+'\\n'\n",
    "    f.write(text)\n",
    "for index, SSG_result in enumerate(tweets_result_SSG):\n",
    "    text = tweets_SSG_dates[index]+','+tweets_list_SSG[index]+','+SSG_result+'\\n'\n",
    "    f.write(text)\n",
    "for index, WE_result in enumerate(tweets_result_WE):\n",
    "    text = tweets_WE_dates[index]+','+tweets_list_WE[index]+','+WE_result+'\\n'\n",
    "    f.write(text)\n",
    "f.close()\n",
    "print(\"Finished\")"
   ]
  }
 ],
 "metadata": {
  "kernelspec": {
   "display_name": "Python 3",
   "language": "python",
   "name": "python3"
  },
  "language_info": {
   "codemirror_mode": {
    "name": "ipython",
    "version": 3
   },
   "file_extension": ".py",
   "mimetype": "text/x-python",
   "name": "python",
   "nbconvert_exporter": "python",
   "pygments_lexer": "ipython3",
   "version": "3.6.3"
  }
 },
 "nbformat": 4,
 "nbformat_minor": 2
}
