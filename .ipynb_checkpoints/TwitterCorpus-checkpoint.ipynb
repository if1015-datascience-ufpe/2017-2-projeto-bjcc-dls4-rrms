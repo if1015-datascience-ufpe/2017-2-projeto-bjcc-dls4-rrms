{
 "cells": [
  {
   "cell_type": "markdown",
   "metadata": {},
   "source": [
    "# Classificador de Twitter\n",
    "\n",
    "### Autor: Ricardo Robson ~rrms at cin.ufpe.br\n",
    "### Baseado em: http://minerandodados.com.br/index.php/2017/03/15/analise-de-sentimentos-twitter-como-fazer/\n",
    "\n",
    "O objetivo deste notebook é construir um classificador de sentimento de tweets, utilizando o Algoritmo Naive Bayes, classificando textos de tweets em Positivo ou Negativo.\n",
    "\n",
    "Faremos uso de um cospus contendo pouco mais de 2900 tweets já classificados."
   ]
  },
  {
   "cell_type": "code",
   "execution_count": 10,
   "metadata": {
    "collapsed": true
   },
   "outputs": [],
   "source": [
    "#Imports que serão usados ao longo da construção e análise do classificador\n",
    "import nltk\n",
    "import re\n",
    "import pandas as pd\n",
    "from sklearn.feature_extraction.text import CountVectorizer\n",
    "from sklearn.naive_bayes import MultinomialNB\n",
    "from sklearn import metrics\n",
    "from sklearn.model_selection import cross_val_predict"
   ]
  },
  {
   "cell_type": "code",
   "execution_count": 11,
   "metadata": {},
   "outputs": [
    {
     "data": {
      "text/plain": [
       "Text         2997\n",
       "Sentiment    2997\n",
       "dtype: int64"
      ]
     },
     "execution_count": 11,
     "metadata": {},
     "output_type": "execute_result"
    }
   ],
   "source": [
    "#Lendo o corpus de tweets classificados\n",
    "dataset = pd.read_csv('twitter_corpus.csv')\n",
    "dataset.count()"
   ]
  },
  {
   "cell_type": "code",
   "execution_count": 14,
   "metadata": {},
   "outputs": [],
   "source": [
    "#Separando textos e classes (sentimentos)\n",
    "tweets = dataset['Text'].values\n",
    "classes = dataset['Sentiment'].values"
   ]
  },
  {
   "cell_type": "code",
   "execution_count": 7,
   "metadata": {},
   "outputs": [
    {
     "data": {
      "text/plain": [
       "MultinomialNB(alpha=1.0, class_prior=None, fit_prior=True)"
      ]
     },
     "execution_count": 7,
     "metadata": {},
     "output_type": "execute_result"
    }
   ],
   "source": [
    "#Criamos um objeto do tipo CountVectorizer chamado vectorizer.\n",
    "vectorizer = CountVectorizer(analyzer=\"word\")\n",
    "\n",
    "#Usamos o objeto vectorizer para calcular a frequência de todas as palavras \n",
    "#da lista de tweets e armazenamos seu retorno em freq_tweets.\n",
    "freq_tweets = vectorizer.fit_transform(tweets)\n",
    "\n",
    "#Criamos um objeto chamado modelo do tipo Naive Bayes Multinomial.\n",
    "#Esse é o algoritmo de classificação que iremos utilizar.\n",
    "modelo = MultinomialNB()\n",
    "\n",
    "#Por fim treinamos o modelo usando a frequência de palavras (freq_tweets)\n",
    "#e as classes de cada instância.\n",
    "modelo.fit(freq_tweets,classes)"
   ]
  },
  {
   "cell_type": "code",
   "execution_count": 18,
   "metadata": {},
   "outputs": [
    {
     "data": {
      "text/plain": [
       "array(['neg', 'pos', 'pos'],\n",
       "      dtype='<U3')"
      ]
     },
     "execution_count": 18,
     "metadata": {},
     "output_type": "execute_result"
    }
   ],
   "source": [
    "#Criando uma pequena lista para testes\n",
    "testes = ['Feeeling like shit right now. I really want to sleep, but nooo I have 3 hours of dancing and an art assignment to finish.',\n",
    "         'goodbye exams, HELLO ALCOHOL TONIGHT',\n",
    "         'trae is so sweet! He just bought me a new baithing suit!! Wove him']\n",
    "#Testando\n",
    "freq_testes = vectorizer.transform(testes)\n",
    "modelo.predict(freq_testes)"
   ]
  },
  {
   "cell_type": "code",
   "execution_count": 17,
   "metadata": {},
   "outputs": [
    {
     "data": {
      "text/plain": [
       "array(['neg', 'pos', 'pos'],\n",
       "      dtype='<U3')"
      ]
     },
     "execution_count": 17,
     "metadata": {},
     "output_type": "execute_result"
    }
   ],
   "source": []
  },
  {
   "cell_type": "code",
   "execution_count": null,
   "metadata": {
    "collapsed": true
   },
   "outputs": [],
   "source": []
  }
 ],
 "metadata": {
  "kernelspec": {
   "display_name": "Python 3",
   "language": "python",
   "name": "python3"
  },
  "language_info": {
   "codemirror_mode": {
    "name": "ipython",
    "version": 3
   },
   "file_extension": ".py",
   "mimetype": "text/x-python",
   "name": "python",
   "nbconvert_exporter": "python",
   "pygments_lexer": "ipython3",
   "version": "3.6.2"
  }
 },
 "nbformat": 4,
 "nbformat_minor": 2
}
