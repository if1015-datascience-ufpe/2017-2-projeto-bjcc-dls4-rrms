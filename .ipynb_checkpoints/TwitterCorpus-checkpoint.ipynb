{
 "cells": [
  {
   "cell_type": "markdown",
   "metadata": {},
   "source": [
    "# Classificador de Twitter\n",
    "\n",
    "### Autor: Ricardo Robson ~rrms at cin.ufpe.br\n",
    "### Baseado em: http://minerandodados.com.br/index.php/2017/03/15/analise-de-sentimentos-twitter-como-fazer/\n",
    "\n",
    "O objetivo deste notebook é construir um classificador de sentimento de tweets, utilizando o Algoritmo Naive Bayes, classificando textos de tweets em Positivo ou Negativo.\n",
    "\n",
    "Faremos uso de um cospus contendo pouco mais de 2900 tweets já classificados."
   ]
  },
  {
   "cell_type": "code",
   "execution_count": 96,
   "metadata": {},
   "outputs": [],
   "source": [
    "#Imports que serão usados ao longo da construção e análise do classificador\n",
    "import nltk\n",
    "import re\n",
    "import pandas as pd\n",
    "from sklearn.feature_extraction.text import CountVectorizer\n",
    "from sklearn.naive_bayes import MultinomialNB\n",
    "from sklearn import metrics\n",
    "from sklearn.model_selection import cross_val_predict\n",
    "from nltk.stem.snowball import SnowballStemmer\n",
    "from googletrans import Translator"
   ]
  },
  {
   "cell_type": "code",
   "execution_count": 97,
   "metadata": {},
   "outputs": [
    {
     "data": {
      "text/plain": [
       "Text         4088\n",
       "Sentiment    4088\n",
       "dtype: int64"
      ]
     },
     "execution_count": 97,
     "metadata": {},
     "output_type": "execute_result"
    }
   ],
   "source": [
    "#Lendo o corpus de tweets classificados\n",
    "dataset = pd.read_csv('twitter_corpus.csv')\n",
    "dataset.count()"
   ]
  },
  {
   "cell_type": "code",
   "execution_count": 98,
   "metadata": {},
   "outputs": [
    {
     "data": {
      "text/plain": [
       "array(['neg', 'pos', 'pos', ..., 'pos', 'pos', 'pos'], dtype=object)"
      ]
     },
     "execution_count": 98,
     "metadata": {},
     "output_type": "execute_result"
    }
   ],
   "source": [
    "#Separando textos e classes (sentimentos)\n",
    "tweets = dataset['Text'].values\n",
    "classes = dataset['Sentiment'].values\n",
    "classes"
   ]
  },
  {
   "cell_type": "markdown",
   "metadata": {},
   "source": [
    "#### Treinando o modelo"
   ]
  },
  {
   "cell_type": "code",
   "execution_count": 99,
   "metadata": {},
   "outputs": [
    {
     "data": {
      "text/plain": [
       "MultinomialNB(alpha=1.0, class_prior=None, fit_prior=True)"
      ]
     },
     "execution_count": 99,
     "metadata": {},
     "output_type": "execute_result"
    }
   ],
   "source": [
    "#Criamos um objeto do tipo CountVectorizer chamado vectorizer.\n",
    "vectorizer = CountVectorizer(analyzer=\"word\")\n",
    "\n",
    "#Usamos o objeto vectorizer para calcular a frequência de todas as palavras \n",
    "#da lista de tweets e armazenamos seu retorno em freq_tweets.\n",
    "freq_tweets = vectorizer.fit_transform(tweets)\n",
    "\n",
    "#Criamos um objeto chamado modelo do tipo Naive Bayes Multinomial.\n",
    "#Esse é o algoritmo de classificação que iremos utilizar.\n",
    "modelo = MultinomialNB()\n",
    "\n",
    "#Por fim treinamos o modelo usando a frequência de palavras (freq_tweets)\n",
    "#e as classes de cada instância.\n",
    "modelo.fit(freq_tweets,classes)"
   ]
  },
  {
   "cell_type": "markdown",
   "metadata": {},
   "source": [
    "#### Treinando o modelo com stop words"
   ]
  },
  {
   "cell_type": "code",
   "execution_count": 100,
   "metadata": {},
   "outputs": [
    {
     "data": {
      "text/plain": [
       "MultinomialNB(alpha=1.0, class_prior=None, fit_prior=True)"
      ]
     },
     "execution_count": 100,
     "metadata": {},
     "output_type": "execute_result"
    }
   ],
   "source": [
    "stopwords_vectorizer = CountVectorizer(analyzer=\"word\", stop_words='english')\n",
    "stopwords_freq_tweets = stopwords_vectorizer.fit_transform(tweets)\n",
    "stopwords_modelo = MultinomialNB()\n",
    "stopwords_modelo.fit(stopwords_freq_tweets,classes)"
   ]
  },
  {
   "cell_type": "markdown",
   "metadata": {},
   "source": [
    "#### Testando modelo simples"
   ]
  },
  {
   "cell_type": "code",
   "execution_count": 101,
   "metadata": {},
   "outputs": [
    {
     "data": {
      "text/plain": [
       "array(['neg', 'pos', 'pos'], \n",
       "      dtype='<U3')"
      ]
     },
     "execution_count": 101,
     "metadata": {},
     "output_type": "execute_result"
    }
   ],
   "source": [
    "#Criando uma pequena lista para testes\n",
    "testes = ['Feeeling like shit right now. I really want to sleep, but nooo I have 3 hours of dancing and an art assignment to finish.',\n",
    "         'goodbye exams, HELLO ALCOHOL TONIGHT',\n",
    "         'trae is so sweet! He just bought me a new baithing suit!! Wove him']\n",
    "#Testando\n",
    "freq_testes = vectorizer.transform(testes)\n",
    "modelo.predict(freq_testes)"
   ]
  },
  {
   "cell_type": "markdown",
   "metadata": {},
   "source": [
    "#### Testando modelo com stopwords"
   ]
  },
  {
   "cell_type": "code",
   "execution_count": 102,
   "metadata": {},
   "outputs": [
    {
     "data": {
      "text/plain": [
       "array(['neg', 'neg', 'pos'], \n",
       "      dtype='<U3')"
      ]
     },
     "execution_count": 102,
     "metadata": {},
     "output_type": "execute_result"
    }
   ],
   "source": [
    "freq_testes = stopwords_vectorizer.transform(testes)\n",
    "stopwords_modelo.predict(freq_testes)"
   ]
  },
  {
   "cell_type": "markdown",
   "metadata": {},
   "source": [
    "#### Treinando modelo com stemming"
   ]
  },
  {
   "cell_type": "code",
   "execution_count": 103,
   "metadata": {},
   "outputs": [
    {
     "data": {
      "text/plain": [
       "MultinomialNB(alpha=1.0, class_prior=None, fit_prior=True)"
      ]
     },
     "execution_count": 103,
     "metadata": {},
     "output_type": "execute_result"
    }
   ],
   "source": [
    "stem_modelo = MultinomialNB()\n",
    "stemmer = SnowballStemmer(\"english\")\n",
    "stem_vectorizer = CountVectorizer(stemmer)\n",
    "stemeed_tweets = []\n",
    "for tweet in tweets:\n",
    "    stemeed_tweets.append(' '.join([stemmer.stem(word) for word in tweet.split()]))\n",
    "\n",
    "freq_steemed_tweets = stem_vectorizer.fit_transform(stemeed_tweets)\n",
    "stem_modelo.fit(freq_steemed_tweets,classes)"
   ]
  },
  {
   "cell_type": "markdown",
   "metadata": {},
   "source": [
    "#### Testando modelo com stemming"
   ]
  },
  {
   "cell_type": "code",
   "execution_count": 104,
   "metadata": {},
   "outputs": [
    {
     "data": {
      "text/plain": [
       "array(['neg', 'pos', 'pos'], \n",
       "      dtype='<U3')"
      ]
     },
     "execution_count": 104,
     "metadata": {},
     "output_type": "execute_result"
    }
   ],
   "source": [
    "stem_testes = []\n",
    "for test in testes:\n",
    "    stem_testes.append(' '.join([stemmer.stem(word) for word in test.split()]))\n",
    "\n",
    "stem_freq_testes = stem_vectorizer.transform(stem_testes)\n",
    "stem_modelo.predict(stem_freq_testes)"
   ]
  },
  {
   "cell_type": "markdown",
   "metadata": {},
   "source": [
    "#### Treinando modelo com stopwords e stemming"
   ]
  },
  {
   "cell_type": "code",
   "execution_count": 105,
   "metadata": {},
   "outputs": [
    {
     "data": {
      "text/plain": [
       "MultinomialNB(alpha=1.0, class_prior=None, fit_prior=True)"
      ]
     },
     "execution_count": 105,
     "metadata": {},
     "output_type": "execute_result"
    }
   ],
   "source": [
    "stem_stopwords_vectorizer = CountVectorizer(analyzer=\"word\", stop_words='english')\n",
    "stem_stopwords_freq_tweets = stem_stopwords_vectorizer.fit_transform(stemeed_tweets)\n",
    "stem_stopwords_modelo = MultinomialNB()\n",
    "stem_stopwords_modelo.fit(stem_stopwords_freq_tweets,classes)"
   ]
  },
  {
   "cell_type": "markdown",
   "metadata": {},
   "source": [
    "#### Testando modelo com stopwords e stemming"
   ]
  },
  {
   "cell_type": "code",
   "execution_count": 106,
   "metadata": {},
   "outputs": [
    {
     "data": {
      "text/plain": [
       "array(['neg', 'pos', 'pos'], \n",
       "      dtype='<U3')"
      ]
     },
     "execution_count": 106,
     "metadata": {},
     "output_type": "execute_result"
    }
   ],
   "source": [
    "stem_stopwords_freq_testes = stem_stopwords_vectorizer.transform(stem_testes)\n",
    "stem_stopwords_modelo.predict(stem_stopwords_freq_testes)"
   ]
  },
  {
   "cell_type": "markdown",
   "metadata": {},
   "source": [
    "#### Função que recupera os tweets de um CSV e retorna a lista de tweets já traduzidos para o inglês"
   ]
  },
  {
   "cell_type": "code",
   "execution_count": 107,
   "metadata": {
    "collapsed": true,
    "scrolled": false
   },
   "outputs": [],
   "source": [
    "def translateTweers(file_name, sep_name):\n",
    "    print(\"Traduzindo '\"+file_name+\"'\")\n",
    "    tweets_csv = pd.read_csv(file_name, sep=sep_name)\n",
    "    translator = Translator()\n",
    "    tweets_list = []\n",
    "    dates = []\n",
    "    for index, tweet in enumerate(tweets_csv['tweet']):\n",
    "        print('.', end=\"\")\n",
    "        try:\n",
    "            translated = translator.translate(tweet, dest='en')\n",
    "            tweets_list.append(translated.text)\n",
    "            dates.append(tweets_csv['date'][index])\n",
    "        except ValueError:\n",
    "            print(\"ERRO ao tentar traduzir em '\"+file_name);\n",
    "    return dates, tweets_list"
   ]
  },
  {
   "cell_type": "markdown",
   "metadata": {},
   "source": [
    "### Predição do sentimento para cada time durante o campeonato"
   ]
  },
  {
   "cell_type": "code",
   "execution_count": 108,
   "metadata": {},
   "outputs": [
    {
     "name": "stdout",
     "output_type": "stream",
     "text": [
      "Traduzindo 'FNC'\n",
      "............................................................................................................................................................................................................................................................................................................Traduzindo 'MSF'\n",
      "............................................................................................................................................................................................................................................................................................................Traduzindo 'C9'\n",
      "............................................................................................................................................................................................................................................................................................................Traduzindo 'LZ'\n",
      "............................................................................................................................................................................................................................................................................................................Traduzindo 'WE'\n",
      "................................................................................................................................................................................................................................................................................................................................................................................................................................................................................................................................................................................................................................................................................................................................................................................................................................................................................................................................................................................................................................................................................................................................................................................................................................................Traduzindo 'RNG'\n",
      "................................................................................................................................................................................................................................................................................................................................................................................................................................................................................................................................................................................................................................................................................................................................................................................................................................................................................................................................................................................................................................................................................................................................................................................................................................................Traduzindo 'SKT'\n",
      "............................................................................................................................................................................................................................................................................................................................................................................................................................................................................................................................................................................................................................................................................................................................................................................................................................................................................................................................................................................................................................................................................................................................................................................................................................................................................................................................................................................................................................................................................................................................................................................................................................................................................................................................................................................................................................................................................................................................................................................Traduzindo 'SSG'\n",
      "................................................................................................................................................................................................................................................................................................................................................................................................................................................................................................................................................................................................................................................................................................................................................................................................................................................................ERRO ao tentar traduzir em 'SSG\n",
      "...........................................................................................................................ERRO ao tentar traduzir em 'SSG\n",
      ".................................................................................................................................................................................................................................................................................................................................................................................................................................................................................................................................................................................................................................................................................................................................................................................................................................................................................................................................................................................7398\t-\t7398\n"
     ]
    }
   ],
   "source": [
    "teams = ['FNC', 'MSF', 'C9', 'LZ','WE', 'RNG', 'SKT', 'SSG']\n",
    "\n",
    "tweets_dates = []\n",
    "tweets_list = []\n",
    "\n",
    "for team in teams:\n",
    "\n",
    "    dates, tranlated_tweets = translateTweers(team,\";\")\n",
    "    tweets_dates.extend(dates)\n",
    "    tweets_list.extend(tranlated_tweets)\n",
    "    \n",
    "tweets_list_vector = vectorizer.transform(tweets_list)\n",
    "result = modelo.predict(tweets_list_vector)\n",
    "\n",
    "stp_tweets_list_vector = stopwords_vectorizer.transform(tweets_list)\n",
    "stp_result = stopwords_modelo.predict(stp_tweets_list_vector)\n",
    "\n",
    "stem_teams = []\n",
    "for tweet in tweets_list:\n",
    "    stem_teams.append(' '.join([stemmer.stem(word) for word in tweet.split()]))\n",
    "stem_freq = stem_vectorizer.transform(stem_teams)\n",
    "stem_result = stem_modelo.predict(stem_freq)\n",
    "\n",
    "stem_stop_freq = stem_stopwords_vectorizer.transform(stem_teams)\n",
    "stem_stp_result = stem_stopwords_modelo.predict(stem_stop_freq)\n",
    "\n",
    "print(str(len(tweets_list))+\"\\t-\\t\"+str(len(result)))"
   ]
  },
  {
   "cell_type": "code",
   "execution_count": 109,
   "metadata": {},
   "outputs": [
    {
     "name": "stdout",
     "output_type": "stream",
     "text": [
      "7398\n",
      "Pos: 0.22127602054609355 Neg:0.7787239794539065\n"
     ]
    }
   ],
   "source": [
    "print(len(result))\n",
    "percentual_positives = len(result[result == 'pos'])/len(result)\n",
    "percentual_negatives = 1-percentual_positives\n",
    "print(\"Pos: \"+str(percentual_positives)+\" Neg:\"+str(percentual_negatives))"
   ]
  },
  {
   "cell_type": "markdown",
   "metadata": {
    "collapsed": true
   },
   "source": [
    "#### Escrevendo CSV com os resultados"
   ]
  },
  {
   "cell_type": "code",
   "execution_count": 110,
   "metadata": {},
   "outputs": [
    {
     "name": "stdout",
     "output_type": "stream",
     "text": [
      "Finished\n"
     ]
    }
   ],
   "source": [
    "f = open('tweets_classifieds.csv','w')\n",
    "for index, tweet_result in enumerate(result):\n",
    "    text = tweets_dates[index]+';'+tweets_list[index]+';'+tweet_result+';'+stp_result[index]+';'+stem_result[index]+';'+stem_stp_result[index]+'\\n'\n",
    "    f.write(text)\n",
    "    \n",
    "f.close()\n",
    "print(\"Finished\")"
   ]
  }
 ],
 "metadata": {
  "kernelspec": {
   "display_name": "Python 3",
   "language": "python",
   "name": "python3"
  },
  "language_info": {
   "codemirror_mode": {
    "name": "ipython",
    "version": 3
   },
   "file_extension": ".py",
   "mimetype": "text/x-python",
   "name": "python",
   "nbconvert_exporter": "python",
   "pygments_lexer": "ipython3",
   "version": "3.6.3"
  }
 },
 "nbformat": 4,
 "nbformat_minor": 2
}
